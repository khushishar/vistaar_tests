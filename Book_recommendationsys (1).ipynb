{
  "cells": [
    {
      "cell_type": "code",
      "execution_count": 1,
      "id": "bf3ff822",
      "metadata": {
        "id": "bf3ff822"
      },
      "outputs": [],
      "source": [
        "#importing basic libraries\n",
        "import pandas as pd\n",
        "import matplotlib.pyplot as plt"
      ]
    },
    {
      "cell_type": "code",
      "source": [
        "#implicit is the library used for collaborative filtering in recommendation systems\n",
        "!pip install implicit"
      ],
      "metadata": {
        "colab": {
          "base_uri": "https://localhost:8080/"
        },
        "id": "bhWMdQH8CFaD",
        "outputId": "6147e7f9-035f-4703-dacf-58aa96752900"
      },
      "id": "bhWMdQH8CFaD",
      "execution_count": 2,
      "outputs": [
        {
          "output_type": "stream",
          "name": "stdout",
          "text": [
            "Collecting implicit\n",
            "  Downloading implicit-0.7.2-cp310-cp310-manylinux2014_x86_64.whl (8.9 MB)\n",
            "\u001b[2K     \u001b[90m━━━━━━━━━━━━━━━━━━━━━━━━━━━━━━━━━━━━━━━━\u001b[0m \u001b[32m8.9/8.9 MB\u001b[0m \u001b[31m20.1 MB/s\u001b[0m eta \u001b[36m0:00:00\u001b[0m\n",
            "\u001b[?25hRequirement already satisfied: numpy>=1.17.0 in /usr/local/lib/python3.10/dist-packages (from implicit) (1.23.5)\n",
            "Requirement already satisfied: scipy>=0.16 in /usr/local/lib/python3.10/dist-packages (from implicit) (1.11.4)\n",
            "Requirement already satisfied: tqdm>=4.27 in /usr/local/lib/python3.10/dist-packages (from implicit) (4.66.1)\n",
            "Requirement already satisfied: threadpoolctl in /usr/local/lib/python3.10/dist-packages (from implicit) (3.2.0)\n",
            "Installing collected packages: implicit\n",
            "Successfully installed implicit-0.7.2\n"
          ]
        }
      ]
    },
    {
      "cell_type": "code",
      "execution_count": 3,
      "id": "5aeac9e3",
      "metadata": {
        "colab": {
          "base_uri": "https://localhost:8080/"
        },
        "id": "5aeac9e3",
        "outputId": "5666c1af-c8e6-4a7c-f97c-fff22ff5ec66"
      },
      "outputs": [
        {
          "output_type": "stream",
          "name": "stderr",
          "text": [
            "/usr/local/lib/python3.10/dist-packages/implicit/gpu/__init__.py:13: UserWarning: CUDA extension is built, but disabling GPU support because of 'Cuda Error: CUDA driver version is insufficient for CUDA runtime version (/project/./implicit/gpu/utils.h:71)'\n",
            "  warnings.warn(\n"
          ]
        }
      ],
      "source": [
        "import implicit"
      ]
    },
    {
      "cell_type": "code",
      "execution_count": 6,
      "id": "c6e7b38c",
      "metadata": {
        "colab": {
          "base_uri": "https://localhost:8080/",
          "height": 241
        },
        "id": "c6e7b38c",
        "outputId": "a4de8cca-4010-4b8e-bfcb-7ddc8580c5a0"
      },
      "outputs": [
        {
          "output_type": "stream",
          "name": "stderr",
          "text": [
            "/usr/local/lib/python3.10/dist-packages/openpyxl/worksheet/_reader.py:329: UserWarning: Unknown extension is not supported and will be removed\n",
            "  warn(msg)\n"
          ]
        },
        {
          "output_type": "execute_result",
          "data": {
            "text/plain": [
              "  User    Book  Total Time Spent on Book (in mins)   Total No of Pages Read  \\\n",
              "0   AS  AquaDE                              83.3999                      13   \n",
              "1   AK  AquaDE                               4.5333                      37   \n",
              "2   AK  AquaDE                               7.3500                      68   \n",
              "3   AL  AquaDE                              89.7166                     640   \n",
              "4   AC  AquaDE                              16.6000                      33   \n",
              "\n",
              "  Most Read Page  \n",
              "0         aquacs  \n",
              "1         aquaft  \n",
              "2         aquacs  \n",
              "3         aquacs  \n",
              "4         aquaft  "
            ],
            "text/html": [
              "\n",
              "  <div id=\"df-f2518e11-b5c3-41c1-85f4-4dc71c26013b\" class=\"colab-df-container\">\n",
              "    <div>\n",
              "<style scoped>\n",
              "    .dataframe tbody tr th:only-of-type {\n",
              "        vertical-align: middle;\n",
              "    }\n",
              "\n",
              "    .dataframe tbody tr th {\n",
              "        vertical-align: top;\n",
              "    }\n",
              "\n",
              "    .dataframe thead th {\n",
              "        text-align: right;\n",
              "    }\n",
              "</style>\n",
              "<table border=\"1\" class=\"dataframe\">\n",
              "  <thead>\n",
              "    <tr style=\"text-align: right;\">\n",
              "      <th></th>\n",
              "      <th>User</th>\n",
              "      <th>Book</th>\n",
              "      <th>Total Time Spent on Book (in mins)</th>\n",
              "      <th>Total No of Pages Read</th>\n",
              "      <th>Most Read Page</th>\n",
              "    </tr>\n",
              "  </thead>\n",
              "  <tbody>\n",
              "    <tr>\n",
              "      <th>0</th>\n",
              "      <td>AS</td>\n",
              "      <td>AquaDE</td>\n",
              "      <td>83.3999</td>\n",
              "      <td>13</td>\n",
              "      <td>aquacs</td>\n",
              "    </tr>\n",
              "    <tr>\n",
              "      <th>1</th>\n",
              "      <td>AK</td>\n",
              "      <td>AquaDE</td>\n",
              "      <td>4.5333</td>\n",
              "      <td>37</td>\n",
              "      <td>aquaft</td>\n",
              "    </tr>\n",
              "    <tr>\n",
              "      <th>2</th>\n",
              "      <td>AK</td>\n",
              "      <td>AquaDE</td>\n",
              "      <td>7.3500</td>\n",
              "      <td>68</td>\n",
              "      <td>aquacs</td>\n",
              "    </tr>\n",
              "    <tr>\n",
              "      <th>3</th>\n",
              "      <td>AL</td>\n",
              "      <td>AquaDE</td>\n",
              "      <td>89.7166</td>\n",
              "      <td>640</td>\n",
              "      <td>aquacs</td>\n",
              "    </tr>\n",
              "    <tr>\n",
              "      <th>4</th>\n",
              "      <td>AC</td>\n",
              "      <td>AquaDE</td>\n",
              "      <td>16.6000</td>\n",
              "      <td>33</td>\n",
              "      <td>aquaft</td>\n",
              "    </tr>\n",
              "  </tbody>\n",
              "</table>\n",
              "</div>\n",
              "    <div class=\"colab-df-buttons\">\n",
              "\n",
              "  <div class=\"colab-df-container\">\n",
              "    <button class=\"colab-df-convert\" onclick=\"convertToInteractive('df-f2518e11-b5c3-41c1-85f4-4dc71c26013b')\"\n",
              "            title=\"Convert this dataframe to an interactive table.\"\n",
              "            style=\"display:none;\">\n",
              "\n",
              "  <svg xmlns=\"http://www.w3.org/2000/svg\" height=\"24px\" viewBox=\"0 -960 960 960\">\n",
              "    <path d=\"M120-120v-720h720v720H120Zm60-500h600v-160H180v160Zm220 220h160v-160H400v160Zm0 220h160v-160H400v160ZM180-400h160v-160H180v160Zm440 0h160v-160H620v160ZM180-180h160v-160H180v160Zm440 0h160v-160H620v160Z\"/>\n",
              "  </svg>\n",
              "    </button>\n",
              "\n",
              "  <style>\n",
              "    .colab-df-container {\n",
              "      display:flex;\n",
              "      gap: 12px;\n",
              "    }\n",
              "\n",
              "    .colab-df-convert {\n",
              "      background-color: #E8F0FE;\n",
              "      border: none;\n",
              "      border-radius: 50%;\n",
              "      cursor: pointer;\n",
              "      display: none;\n",
              "      fill: #1967D2;\n",
              "      height: 32px;\n",
              "      padding: 0 0 0 0;\n",
              "      width: 32px;\n",
              "    }\n",
              "\n",
              "    .colab-df-convert:hover {\n",
              "      background-color: #E2EBFA;\n",
              "      box-shadow: 0px 1px 2px rgba(60, 64, 67, 0.3), 0px 1px 3px 1px rgba(60, 64, 67, 0.15);\n",
              "      fill: #174EA6;\n",
              "    }\n",
              "\n",
              "    .colab-df-buttons div {\n",
              "      margin-bottom: 4px;\n",
              "    }\n",
              "\n",
              "    [theme=dark] .colab-df-convert {\n",
              "      background-color: #3B4455;\n",
              "      fill: #D2E3FC;\n",
              "    }\n",
              "\n",
              "    [theme=dark] .colab-df-convert:hover {\n",
              "      background-color: #434B5C;\n",
              "      box-shadow: 0px 1px 3px 1px rgba(0, 0, 0, 0.15);\n",
              "      filter: drop-shadow(0px 1px 2px rgba(0, 0, 0, 0.3));\n",
              "      fill: #FFFFFF;\n",
              "    }\n",
              "  </style>\n",
              "\n",
              "    <script>\n",
              "      const buttonEl =\n",
              "        document.querySelector('#df-f2518e11-b5c3-41c1-85f4-4dc71c26013b button.colab-df-convert');\n",
              "      buttonEl.style.display =\n",
              "        google.colab.kernel.accessAllowed ? 'block' : 'none';\n",
              "\n",
              "      async function convertToInteractive(key) {\n",
              "        const element = document.querySelector('#df-f2518e11-b5c3-41c1-85f4-4dc71c26013b');\n",
              "        const dataTable =\n",
              "          await google.colab.kernel.invokeFunction('convertToInteractive',\n",
              "                                                    [key], {});\n",
              "        if (!dataTable) return;\n",
              "\n",
              "        const docLinkHtml = 'Like what you see? Visit the ' +\n",
              "          '<a target=\"_blank\" href=https://colab.research.google.com/notebooks/data_table.ipynb>data table notebook</a>'\n",
              "          + ' to learn more about interactive tables.';\n",
              "        element.innerHTML = '';\n",
              "        dataTable['output_type'] = 'display_data';\n",
              "        await google.colab.output.renderOutput(dataTable, element);\n",
              "        const docLink = document.createElement('div');\n",
              "        docLink.innerHTML = docLinkHtml;\n",
              "        element.appendChild(docLink);\n",
              "      }\n",
              "    </script>\n",
              "  </div>\n",
              "\n",
              "\n",
              "<div id=\"df-eadc77c2-c4bb-48ce-b493-f61d591b0f3e\">\n",
              "  <button class=\"colab-df-quickchart\" onclick=\"quickchart('df-eadc77c2-c4bb-48ce-b493-f61d591b0f3e')\"\n",
              "            title=\"Suggest charts\"\n",
              "            style=\"display:none;\">\n",
              "\n",
              "<svg xmlns=\"http://www.w3.org/2000/svg\" height=\"24px\"viewBox=\"0 0 24 24\"\n",
              "     width=\"24px\">\n",
              "    <g>\n",
              "        <path d=\"M19 3H5c-1.1 0-2 .9-2 2v14c0 1.1.9 2 2 2h14c1.1 0 2-.9 2-2V5c0-1.1-.9-2-2-2zM9 17H7v-7h2v7zm4 0h-2V7h2v10zm4 0h-2v-4h2v4z\"/>\n",
              "    </g>\n",
              "</svg>\n",
              "  </button>\n",
              "\n",
              "<style>\n",
              "  .colab-df-quickchart {\n",
              "      --bg-color: #E8F0FE;\n",
              "      --fill-color: #1967D2;\n",
              "      --hover-bg-color: #E2EBFA;\n",
              "      --hover-fill-color: #174EA6;\n",
              "      --disabled-fill-color: #AAA;\n",
              "      --disabled-bg-color: #DDD;\n",
              "  }\n",
              "\n",
              "  [theme=dark] .colab-df-quickchart {\n",
              "      --bg-color: #3B4455;\n",
              "      --fill-color: #D2E3FC;\n",
              "      --hover-bg-color: #434B5C;\n",
              "      --hover-fill-color: #FFFFFF;\n",
              "      --disabled-bg-color: #3B4455;\n",
              "      --disabled-fill-color: #666;\n",
              "  }\n",
              "\n",
              "  .colab-df-quickchart {\n",
              "    background-color: var(--bg-color);\n",
              "    border: none;\n",
              "    border-radius: 50%;\n",
              "    cursor: pointer;\n",
              "    display: none;\n",
              "    fill: var(--fill-color);\n",
              "    height: 32px;\n",
              "    padding: 0;\n",
              "    width: 32px;\n",
              "  }\n",
              "\n",
              "  .colab-df-quickchart:hover {\n",
              "    background-color: var(--hover-bg-color);\n",
              "    box-shadow: 0 1px 2px rgba(60, 64, 67, 0.3), 0 1px 3px 1px rgba(60, 64, 67, 0.15);\n",
              "    fill: var(--button-hover-fill-color);\n",
              "  }\n",
              "\n",
              "  .colab-df-quickchart-complete:disabled,\n",
              "  .colab-df-quickchart-complete:disabled:hover {\n",
              "    background-color: var(--disabled-bg-color);\n",
              "    fill: var(--disabled-fill-color);\n",
              "    box-shadow: none;\n",
              "  }\n",
              "\n",
              "  .colab-df-spinner {\n",
              "    border: 2px solid var(--fill-color);\n",
              "    border-color: transparent;\n",
              "    border-bottom-color: var(--fill-color);\n",
              "    animation:\n",
              "      spin 1s steps(1) infinite;\n",
              "  }\n",
              "\n",
              "  @keyframes spin {\n",
              "    0% {\n",
              "      border-color: transparent;\n",
              "      border-bottom-color: var(--fill-color);\n",
              "      border-left-color: var(--fill-color);\n",
              "    }\n",
              "    20% {\n",
              "      border-color: transparent;\n",
              "      border-left-color: var(--fill-color);\n",
              "      border-top-color: var(--fill-color);\n",
              "    }\n",
              "    30% {\n",
              "      border-color: transparent;\n",
              "      border-left-color: var(--fill-color);\n",
              "      border-top-color: var(--fill-color);\n",
              "      border-right-color: var(--fill-color);\n",
              "    }\n",
              "    40% {\n",
              "      border-color: transparent;\n",
              "      border-right-color: var(--fill-color);\n",
              "      border-top-color: var(--fill-color);\n",
              "    }\n",
              "    60% {\n",
              "      border-color: transparent;\n",
              "      border-right-color: var(--fill-color);\n",
              "    }\n",
              "    80% {\n",
              "      border-color: transparent;\n",
              "      border-right-color: var(--fill-color);\n",
              "      border-bottom-color: var(--fill-color);\n",
              "    }\n",
              "    90% {\n",
              "      border-color: transparent;\n",
              "      border-bottom-color: var(--fill-color);\n",
              "    }\n",
              "  }\n",
              "</style>\n",
              "\n",
              "  <script>\n",
              "    async function quickchart(key) {\n",
              "      const quickchartButtonEl =\n",
              "        document.querySelector('#' + key + ' button');\n",
              "      quickchartButtonEl.disabled = true;  // To prevent multiple clicks.\n",
              "      quickchartButtonEl.classList.add('colab-df-spinner');\n",
              "      try {\n",
              "        const charts = await google.colab.kernel.invokeFunction(\n",
              "            'suggestCharts', [key], {});\n",
              "      } catch (error) {\n",
              "        console.error('Error during call to suggestCharts:', error);\n",
              "      }\n",
              "      quickchartButtonEl.classList.remove('colab-df-spinner');\n",
              "      quickchartButtonEl.classList.add('colab-df-quickchart-complete');\n",
              "    }\n",
              "    (() => {\n",
              "      let quickchartButtonEl =\n",
              "        document.querySelector('#df-eadc77c2-c4bb-48ce-b493-f61d591b0f3e button');\n",
              "      quickchartButtonEl.style.display =\n",
              "        google.colab.kernel.accessAllowed ? 'block' : 'none';\n",
              "    })();\n",
              "  </script>\n",
              "</div>\n",
              "    </div>\n",
              "  </div>\n"
            ]
          },
          "metadata": {},
          "execution_count": 6
        }
      ],
      "source": [
        "#loading data\n",
        "data= pd.read_excel(\"Book Report-vistaar.xlsx\")\n",
        "data.head(5)"
      ]
    },
    {
      "cell_type": "code",
      "execution_count": 7,
      "id": "58323be9",
      "metadata": {
        "id": "58323be9",
        "colab": {
          "base_uri": "https://localhost:8080/"
        },
        "outputId": "44725872-b518-4d96-85fc-dff2876e6599"
      },
      "outputs": [
        {
          "output_type": "stream",
          "name": "stdout",
          "text": [
            "<class 'pandas.core.frame.DataFrame'>\n",
            "RangeIndex: 1242 entries, 0 to 1241\n",
            "Data columns (total 5 columns):\n",
            " #   Column                               Non-Null Count  Dtype  \n",
            "---  ------                               --------------  -----  \n",
            " 0   User                                 1219 non-null   object \n",
            " 1   Book                                 1242 non-null   object \n",
            " 2   Total Time Spent on Book (in mins)   1242 non-null   float64\n",
            " 3   Total No of Pages Read               1242 non-null   int64  \n",
            " 4   Most Read Page                       1242 non-null   object \n",
            "dtypes: float64(1), int64(1), object(3)\n",
            "memory usage: 48.6+ KB\n"
          ]
        }
      ],
      "source": [
        "data.info()"
      ]
    },
    {
      "cell_type": "code",
      "execution_count": 8,
      "id": "99df5917",
      "metadata": {
        "id": "99df5917"
      },
      "outputs": [],
      "source": [
        "import numpy as np\n",
        "from implicit.als import AlternatingLeastSquares\n",
        "from scipy.sparse import csr_matrix"
      ]
    },
    {
      "cell_type": "code",
      "execution_count": 9,
      "id": "4ecd65bd",
      "metadata": {
        "colab": {
          "base_uri": "https://localhost:8080/"
        },
        "id": "4ecd65bd",
        "outputId": "614bdb14-727d-4a04-b759-9fe96f63aef4"
      },
      "outputs": [
        {
          "output_type": "stream",
          "name": "stdout",
          "text": [
            "{'AS': 0, 'AK': 1, 'AL': 2, 'AC': 3, 'AM': 4, 'DKA': 5, 'DA': 6, 'GHG': 7, 'HS': 8, 'JSK': 9, 'KM': 10, 'KSA': 11, 'KAK': 12, 'KV': 13, 'MS': 14, 'MKC': 15, 'MA': 16, 'MKB': 17, nan: 18, 'NV': 19, 'PK': 20, 'PS': 21, 'PM': 22, 'RSA': 23, 'RS': 24, 'RPSG': 25, 'SMA': 26, 'SVR': 27, 'SS': 28, 'SM': 29, 'SSB': 30, 'SD': 31, 'SKM': 32, 'SSK': 33, 'SB': 34, 'TKY': 35, 'TNK': 36, 'US': 37, 'VSk': 38, 'VB': 39, 'VKGM': 40, 'VS': 41, 'VH': 42, 'WK': 43}\n"
          ]
        }
      ],
      "source": [
        "#made a dictionary to give each user and book a user id and book id to make calculations easier\n",
        "unique_user=data[\"User\"].unique()\n",
        "User_ids = dict(zip(unique_user, np.arange(unique_user.shape[0], dtype=np.int32)))\n",
        "print(User_ids)\n"
      ]
    },
    {
      "cell_type": "code",
      "execution_count": 10,
      "id": "23ecb1e3",
      "metadata": {
        "id": "23ecb1e3"
      },
      "outputs": [],
      "source": [
        "unique_books = data['Book'].unique()\n",
        "Book_ids = dict(zip(unique_books, np.arange(unique_books.shape[0], dtype=np.int32)))"
      ]
    },
    {
      "cell_type": "code",
      "execution_count": 11,
      "id": "54a282d9",
      "metadata": {
        "id": "54a282d9"
      },
      "outputs": [],
      "source": [
        "data['User_ids'] = data[\"User\"].apply(lambda i: User_ids[i])\n",
        "data['Book_ids'] = data['Book'].apply(lambda i: Book_ids[i])"
      ]
    },
    {
      "cell_type": "code",
      "execution_count": 12,
      "id": "076cfb8c",
      "metadata": {
        "id": "076cfb8c"
      },
      "outputs": [],
      "source": [
        "import scipy.sparse as sparse"
      ]
    },
    {
      "cell_type": "code",
      "execution_count": 13,
      "id": "1195f6cd",
      "metadata": {
        "id": "1195f6cd"
      },
      "outputs": [],
      "source": [
        "# formed matries between user,book and pages they read this will help to understand user's interaction with each book\n",
        "sparse_book_user = sparse.csr_matrix((data['Total No of Pages Read'].astype(float), (data['Book_ids'], data['User_ids'])))\n",
        "sparse_user_book = sparse.csr_matrix((data['Total No of Pages Read'].astype(float), (data['User_ids'], data['Book_ids'])))"
      ]
    },
    {
      "cell_type": "code",
      "execution_count": 14,
      "id": "f4e91d27",
      "metadata": {
        "id": "f4e91d27",
        "colab": {
          "base_uri": "https://localhost:8080/"
        },
        "outputId": "e16bba30-228a-4e4e-ab45-ff3c1ad6c6a8"
      },
      "outputs": [
        {
          "output_type": "stream",
          "name": "stderr",
          "text": [
            "/usr/local/lib/python3.10/dist-packages/implicit/cpu/als.py:95: RuntimeWarning: OpenBLAS is configured to use 2 threads. It is highly recommended to disable its internal threadpool by setting the environment variable 'OPENBLAS_NUM_THREADS=1' or by calling 'threadpoolctl.threadpool_limits(1, \"blas\")'. Having OpenBLAS use a threadpool can lead to severe performance issues here.\n",
            "  check_blas_config()\n"
          ]
        }
      ],
      "source": [
        "# AlternatingLeastSquares is used to get latent factors of the interactions\n",
        "model = implicit.als.AlternatingLeastSquares(factors=50, regularization=0.1, iterations=10)"
      ]
    },
    {
      "cell_type": "code",
      "source": [
        "alpha = 15\n",
        "df = (sparse_book_user * alpha).astype('double')\n",
        "\n",
        "model.fit(df)"
      ],
      "metadata": {
        "colab": {
          "base_uri": "https://localhost:8080/",
          "height": 49,
          "referenced_widgets": [
            "0b01a2d9e5f043bbbe02b1de909831ea",
            "5410634b349a4ae486cc3aa0ab3e4428",
            "d1e2feab54d7414680fd9016b551ec72",
            "ee138814a3d44518a241ba294d8a5a64",
            "33c48f9ea538480fb3e40571314328d4",
            "93d83173e6c94a60953e715e77232e91",
            "6ade1f32b4dc4d9ea5e46995ff3470e9",
            "be5fe71cba4d4f0b9403fbf510850f02",
            "61cdd105644243d4979603d7bb8e2959",
            "96458953b32c492ea0eabfb49b689360",
            "9c56b9ed65c843a3989df5e1547b5996"
          ]
        },
        "id": "Ozcen0MnCrL9",
        "outputId": "8b13b844-fbcd-4406-ad6d-87ee817f4397"
      },
      "id": "Ozcen0MnCrL9",
      "execution_count": 15,
      "outputs": [
        {
          "output_type": "display_data",
          "data": {
            "text/plain": [
              "  0%|          | 0/10 [00:00<?, ?it/s]"
            ],
            "application/vnd.jupyter.widget-view+json": {
              "version_major": 2,
              "version_minor": 0,
              "model_id": "0b01a2d9e5f043bbbe02b1de909831ea"
            }
          },
          "metadata": {}
        }
      ]
    },
    {
      "cell_type": "code",
      "source": [
        "item_vecs = model.item_factors\n",
        "user_vecs = model.user_factors\n"
      ],
      "metadata": {
        "id": "moZFgFAK0LBq"
      },
      "id": "moZFgFAK0LBq",
      "execution_count": 16,
      "outputs": []
    },
    {
      "cell_type": "code",
      "source": [
        "from sklearn.preprocessing import MinMaxScaler"
      ],
      "metadata": {
        "id": "h1gbK7Dg2JVq"
      },
      "id": "h1gbK7Dg2JVq",
      "execution_count": 17,
      "outputs": []
    },
    {
      "cell_type": "markdown",
      "source": [
        "In the recommend function:\n",
        "1. the user interactions from the above matrix are converted to 1D array\n",
        "2. similarly the latent factors from ALS are converted array\n",
        "3. both are multiplied to produce a score upon which each book will be judged\n",
        "4. the system recommends 5 books, considering the fact that the user may have completed the books whose many pages are already read or something not to be recommended.\n",
        "5. for book recommended the system provides an approx time they may need to read avgerage amount of pages in the book"
      ],
      "metadata": {
        "id": "iy4QcdrNsyER"
      },
      "id": "iy4QcdrNsyER"
    },
    {
      "cell_type": "code",
      "execution_count": 20,
      "id": "953a915a",
      "metadata": {
        "id": "953a915a"
      },
      "outputs": [],
      "source": [
        "def recommend(User_ids, sparse_user_book, user_vecs, item_vecs, num_items=19):\n",
        "\n",
        "    user_interactions = sparse_user_book[User_ids,:].toarray()\n",
        "    user_interactions = user_interactions.reshape(-1)+1\n",
        "\n",
        "\n",
        "    rec_vector = user_vecs[User_ids,:].dot(item_vecs.T).toarray()\n",
        "\n",
        "    min_max = MinMaxScaler()\n",
        "    rec_vector_scaled = min_max.fit_transform(rec_vector.reshape(-1,1))[:,0]\n",
        "    common_indices = np.intersect1d(np.arange(user_interactions.shape[0]), np.arange(rec_vector_scaled.shape[0]))\n",
        "    user_interactions = user_interactions[common_indices]\n",
        "    rec_vector_scaled = rec_vector_scaled[common_indices]\n",
        "    recommend_vector = user_interactions * rec_vector_scaled\n",
        "\n",
        "    item_idx = np.argsort(recommend_vector)[::-1][num_items:]\n",
        "\n",
        "\n",
        "    books = []\n",
        "    scores = []\n",
        "    avg_time_book=[]\n",
        "\n",
        "\n",
        "    for idx in item_idx:\n",
        "        books.append(data[\"Book\"].loc[data[\"Book_ids\"] == idx].iloc[0])\n",
        "        scores.append(recommend_vector[idx])\n",
        "        avg_time=data[\"Total Time Spent on Book (in mins) \"].loc[data['Book_ids']==idx].mean()\n",
        "        avg_time_page=data[\"Total No of Pages Read\"].loc[data['Book_ids']==idx].mean()\n",
        "        avg_time_book.append(avg_time*avg_time_page)\n",
        "\n",
        "\n",
        "    recommendations = pd.DataFrame({'Book': books, 'score': scores,'Time to taken(in mins)': avg_time_book})\n",
        "\n",
        "    return recommendations"
      ]
    },
    {
      "cell_type": "code",
      "source": [
        "user_vecs = sparse.csr_matrix(model.user_factors)\n",
        "item_vecs = sparse.csr_matrix(model.item_factors)\n",
        "\n",
        "# Create recommendations for customer with id 2\n",
        "print(\"Get recommendation for top 5 books and time you will take on avgerage to read them \\n\")\n",
        "a=input(\"Enter user name\\n\")\n",
        "User_id=User_ids.get(a)\n",
        "\n",
        "recommendations = recommend(User_id, sparse_user_book, user_vecs, item_vecs)\n",
        "\n",
        "print(recommendations)"
      ],
      "metadata": {
        "colab": {
          "base_uri": "https://localhost:8080/"
        },
        "id": "yg7fCOX07BHE",
        "outputId": "2f7889bc-3ef0-4564-d494-c69624ff4476"
      },
      "id": "yg7fCOX07BHE",
      "execution_count": 22,
      "outputs": [
        {
          "output_type": "stream",
          "name": "stdout",
          "text": [
            "Get recommendation for top 5 books and time you will take on avgerage to read them \n",
            "\n",
            "Enter user name\n",
            "AL\n",
            "      Book      score  Time to taken(in mins)\n",
            "0   LoteCJ  19.917150             1052.595480\n",
            "1      CBR   9.967759               24.644234\n",
            "2  BrinzGL   3.997900              829.859242\n",
            "3  GaviOHP   2.959559              384.661221\n",
            "4   NetaGL   0.997497             1026.344976\n"
          ]
        }
      ]
    }
  ],
  "metadata": {
    "kernelspec": {
      "display_name": "Python 3",
      "language": "python",
      "name": "python3"
    },
    "language_info": {
      "codemirror_mode": {
        "name": "ipython",
        "version": 3
      },
      "file_extension": ".py",
      "mimetype": "text/x-python",
      "name": "python",
      "nbconvert_exporter": "python",
      "pygments_lexer": "ipython3",
      "version": "3.8.8"
    },
    "colab": {
      "provenance": []
    },
    "widgets": {
      "application/vnd.jupyter.widget-state+json": {
        "0b01a2d9e5f043bbbe02b1de909831ea": {
          "model_module": "@jupyter-widgets/controls",
          "model_name": "HBoxModel",
          "model_module_version": "1.5.0",
          "state": {
            "_dom_classes": [],
            "_model_module": "@jupyter-widgets/controls",
            "_model_module_version": "1.5.0",
            "_model_name": "HBoxModel",
            "_view_count": null,
            "_view_module": "@jupyter-widgets/controls",
            "_view_module_version": "1.5.0",
            "_view_name": "HBoxView",
            "box_style": "",
            "children": [
              "IPY_MODEL_5410634b349a4ae486cc3aa0ab3e4428",
              "IPY_MODEL_d1e2feab54d7414680fd9016b551ec72",
              "IPY_MODEL_ee138814a3d44518a241ba294d8a5a64"
            ],
            "layout": "IPY_MODEL_33c48f9ea538480fb3e40571314328d4"
          }
        },
        "5410634b349a4ae486cc3aa0ab3e4428": {
          "model_module": "@jupyter-widgets/controls",
          "model_name": "HTMLModel",
          "model_module_version": "1.5.0",
          "state": {
            "_dom_classes": [],
            "_model_module": "@jupyter-widgets/controls",
            "_model_module_version": "1.5.0",
            "_model_name": "HTMLModel",
            "_view_count": null,
            "_view_module": "@jupyter-widgets/controls",
            "_view_module_version": "1.5.0",
            "_view_name": "HTMLView",
            "description": "",
            "description_tooltip": null,
            "layout": "IPY_MODEL_93d83173e6c94a60953e715e77232e91",
            "placeholder": "​",
            "style": "IPY_MODEL_6ade1f32b4dc4d9ea5e46995ff3470e9",
            "value": "100%"
          }
        },
        "d1e2feab54d7414680fd9016b551ec72": {
          "model_module": "@jupyter-widgets/controls",
          "model_name": "FloatProgressModel",
          "model_module_version": "1.5.0",
          "state": {
            "_dom_classes": [],
            "_model_module": "@jupyter-widgets/controls",
            "_model_module_version": "1.5.0",
            "_model_name": "FloatProgressModel",
            "_view_count": null,
            "_view_module": "@jupyter-widgets/controls",
            "_view_module_version": "1.5.0",
            "_view_name": "ProgressView",
            "bar_style": "success",
            "description": "",
            "description_tooltip": null,
            "layout": "IPY_MODEL_be5fe71cba4d4f0b9403fbf510850f02",
            "max": 10,
            "min": 0,
            "orientation": "horizontal",
            "style": "IPY_MODEL_61cdd105644243d4979603d7bb8e2959",
            "value": 10
          }
        },
        "ee138814a3d44518a241ba294d8a5a64": {
          "model_module": "@jupyter-widgets/controls",
          "model_name": "HTMLModel",
          "model_module_version": "1.5.0",
          "state": {
            "_dom_classes": [],
            "_model_module": "@jupyter-widgets/controls",
            "_model_module_version": "1.5.0",
            "_model_name": "HTMLModel",
            "_view_count": null,
            "_view_module": "@jupyter-widgets/controls",
            "_view_module_version": "1.5.0",
            "_view_name": "HTMLView",
            "description": "",
            "description_tooltip": null,
            "layout": "IPY_MODEL_96458953b32c492ea0eabfb49b689360",
            "placeholder": "​",
            "style": "IPY_MODEL_9c56b9ed65c843a3989df5e1547b5996",
            "value": " 10/10 [00:01&lt;00:00,  7.42it/s]"
          }
        },
        "33c48f9ea538480fb3e40571314328d4": {
          "model_module": "@jupyter-widgets/base",
          "model_name": "LayoutModel",
          "model_module_version": "1.2.0",
          "state": {
            "_model_module": "@jupyter-widgets/base",
            "_model_module_version": "1.2.0",
            "_model_name": "LayoutModel",
            "_view_count": null,
            "_view_module": "@jupyter-widgets/base",
            "_view_module_version": "1.2.0",
            "_view_name": "LayoutView",
            "align_content": null,
            "align_items": null,
            "align_self": null,
            "border": null,
            "bottom": null,
            "display": null,
            "flex": null,
            "flex_flow": null,
            "grid_area": null,
            "grid_auto_columns": null,
            "grid_auto_flow": null,
            "grid_auto_rows": null,
            "grid_column": null,
            "grid_gap": null,
            "grid_row": null,
            "grid_template_areas": null,
            "grid_template_columns": null,
            "grid_template_rows": null,
            "height": null,
            "justify_content": null,
            "justify_items": null,
            "left": null,
            "margin": null,
            "max_height": null,
            "max_width": null,
            "min_height": null,
            "min_width": null,
            "object_fit": null,
            "object_position": null,
            "order": null,
            "overflow": null,
            "overflow_x": null,
            "overflow_y": null,
            "padding": null,
            "right": null,
            "top": null,
            "visibility": null,
            "width": null
          }
        },
        "93d83173e6c94a60953e715e77232e91": {
          "model_module": "@jupyter-widgets/base",
          "model_name": "LayoutModel",
          "model_module_version": "1.2.0",
          "state": {
            "_model_module": "@jupyter-widgets/base",
            "_model_module_version": "1.2.0",
            "_model_name": "LayoutModel",
            "_view_count": null,
            "_view_module": "@jupyter-widgets/base",
            "_view_module_version": "1.2.0",
            "_view_name": "LayoutView",
            "align_content": null,
            "align_items": null,
            "align_self": null,
            "border": null,
            "bottom": null,
            "display": null,
            "flex": null,
            "flex_flow": null,
            "grid_area": null,
            "grid_auto_columns": null,
            "grid_auto_flow": null,
            "grid_auto_rows": null,
            "grid_column": null,
            "grid_gap": null,
            "grid_row": null,
            "grid_template_areas": null,
            "grid_template_columns": null,
            "grid_template_rows": null,
            "height": null,
            "justify_content": null,
            "justify_items": null,
            "left": null,
            "margin": null,
            "max_height": null,
            "max_width": null,
            "min_height": null,
            "min_width": null,
            "object_fit": null,
            "object_position": null,
            "order": null,
            "overflow": null,
            "overflow_x": null,
            "overflow_y": null,
            "padding": null,
            "right": null,
            "top": null,
            "visibility": null,
            "width": null
          }
        },
        "6ade1f32b4dc4d9ea5e46995ff3470e9": {
          "model_module": "@jupyter-widgets/controls",
          "model_name": "DescriptionStyleModel",
          "model_module_version": "1.5.0",
          "state": {
            "_model_module": "@jupyter-widgets/controls",
            "_model_module_version": "1.5.0",
            "_model_name": "DescriptionStyleModel",
            "_view_count": null,
            "_view_module": "@jupyter-widgets/base",
            "_view_module_version": "1.2.0",
            "_view_name": "StyleView",
            "description_width": ""
          }
        },
        "be5fe71cba4d4f0b9403fbf510850f02": {
          "model_module": "@jupyter-widgets/base",
          "model_name": "LayoutModel",
          "model_module_version": "1.2.0",
          "state": {
            "_model_module": "@jupyter-widgets/base",
            "_model_module_version": "1.2.0",
            "_model_name": "LayoutModel",
            "_view_count": null,
            "_view_module": "@jupyter-widgets/base",
            "_view_module_version": "1.2.0",
            "_view_name": "LayoutView",
            "align_content": null,
            "align_items": null,
            "align_self": null,
            "border": null,
            "bottom": null,
            "display": null,
            "flex": null,
            "flex_flow": null,
            "grid_area": null,
            "grid_auto_columns": null,
            "grid_auto_flow": null,
            "grid_auto_rows": null,
            "grid_column": null,
            "grid_gap": null,
            "grid_row": null,
            "grid_template_areas": null,
            "grid_template_columns": null,
            "grid_template_rows": null,
            "height": null,
            "justify_content": null,
            "justify_items": null,
            "left": null,
            "margin": null,
            "max_height": null,
            "max_width": null,
            "min_height": null,
            "min_width": null,
            "object_fit": null,
            "object_position": null,
            "order": null,
            "overflow": null,
            "overflow_x": null,
            "overflow_y": null,
            "padding": null,
            "right": null,
            "top": null,
            "visibility": null,
            "width": null
          }
        },
        "61cdd105644243d4979603d7bb8e2959": {
          "model_module": "@jupyter-widgets/controls",
          "model_name": "ProgressStyleModel",
          "model_module_version": "1.5.0",
          "state": {
            "_model_module": "@jupyter-widgets/controls",
            "_model_module_version": "1.5.0",
            "_model_name": "ProgressStyleModel",
            "_view_count": null,
            "_view_module": "@jupyter-widgets/base",
            "_view_module_version": "1.2.0",
            "_view_name": "StyleView",
            "bar_color": null,
            "description_width": ""
          }
        },
        "96458953b32c492ea0eabfb49b689360": {
          "model_module": "@jupyter-widgets/base",
          "model_name": "LayoutModel",
          "model_module_version": "1.2.0",
          "state": {
            "_model_module": "@jupyter-widgets/base",
            "_model_module_version": "1.2.0",
            "_model_name": "LayoutModel",
            "_view_count": null,
            "_view_module": "@jupyter-widgets/base",
            "_view_module_version": "1.2.0",
            "_view_name": "LayoutView",
            "align_content": null,
            "align_items": null,
            "align_self": null,
            "border": null,
            "bottom": null,
            "display": null,
            "flex": null,
            "flex_flow": null,
            "grid_area": null,
            "grid_auto_columns": null,
            "grid_auto_flow": null,
            "grid_auto_rows": null,
            "grid_column": null,
            "grid_gap": null,
            "grid_row": null,
            "grid_template_areas": null,
            "grid_template_columns": null,
            "grid_template_rows": null,
            "height": null,
            "justify_content": null,
            "justify_items": null,
            "left": null,
            "margin": null,
            "max_height": null,
            "max_width": null,
            "min_height": null,
            "min_width": null,
            "object_fit": null,
            "object_position": null,
            "order": null,
            "overflow": null,
            "overflow_x": null,
            "overflow_y": null,
            "padding": null,
            "right": null,
            "top": null,
            "visibility": null,
            "width": null
          }
        },
        "9c56b9ed65c843a3989df5e1547b5996": {
          "model_module": "@jupyter-widgets/controls",
          "model_name": "DescriptionStyleModel",
          "model_module_version": "1.5.0",
          "state": {
            "_model_module": "@jupyter-widgets/controls",
            "_model_module_version": "1.5.0",
            "_model_name": "DescriptionStyleModel",
            "_view_count": null,
            "_view_module": "@jupyter-widgets/base",
            "_view_module_version": "1.2.0",
            "_view_name": "StyleView",
            "description_width": ""
          }
        }
      }
    }
  },
  "nbformat": 4,
  "nbformat_minor": 5
}